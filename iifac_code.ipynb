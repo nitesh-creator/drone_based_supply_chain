{
  "cells": [
    {
      "cell_type": "code",
      "execution_count": null,
      "metadata": {
        "id": "MxG7-t0ljckG"
      },
      "outputs": [],
      "source": []
    },
    {
      "cell_type": "code",
      "execution_count": null,
      "metadata": {
        "colab": {
          "base_uri": "https://localhost:8080/"
        },
        "id": "ZqXhTwxZj533",
        "outputId": "09915980-b49e-4675-e1dd-72096caf34ca"
      },
      "outputs": [
        {
          "output_type": "stream",
          "name": "stdout",
          "text": [
            "Vertex \t\tDistance from Source\tPath\n",
            "\n",
            "0 --> 1 \t\t7 \t\t\t\t\t\n",
            "0\n",
            "1\n",
            "\n",
            "0 --> 2 \t\t9 \t\t\t\t\t\n",
            "0\n",
            "1\n",
            "2\n",
            "\n",
            "0 --> 3 \t\t10 \t\t\t\t\t\n",
            "0\n",
            "3\n",
            "\n",
            "0 --> 4 \t\t16 \t\t\t\t\t\n",
            "0\n",
            "1\n",
            "2\n",
            "4\n",
            "\n",
            "0 --> 5 \t\t12 \t\t\t\t\t\n",
            "0\n",
            "1\n",
            "2\n",
            "5\n",
            "\n",
            "0 --> 6 \t\t13 \t\t\t\t\t\n",
            "0\n",
            "1\n",
            "2\n",
            "5\n",
            "6\n",
            "\n",
            "0 --> 7 \t\t20 \t\t\t\t\t\n",
            "0\n",
            "1\n",
            "2\n",
            "5\n",
            "6\n",
            "7\n",
            "\n",
            "0 --> 8 \t\t20 \t\t\t\t\t\n",
            "0\n",
            "1\n",
            "2\n",
            "5\n",
            "8\n",
            "\n",
            "0 --> 9 \t\t19 \t\t\t\t\t\n",
            "0\n",
            "1\n",
            "2\n",
            "5\n",
            "9\n",
            "Minimum drone required from respective parent phc is  1 House number is 1\n",
            "Minimum drone required from respective parent phc is  1 House number is 2\n",
            "Minimum drone required from respective parent phc is  2 House number is 3\n",
            "Minimum drone required from respective parent chc is  0 phc number is 1\n",
            "Minimum drone required from respective parent chc is  3 phc number is 2\n",
            "Minimum drone required from respective parent chc is  1 phc number is 3\n",
            "Minimum drone required from respective parent district hospital is  3 chc number is 1\n",
            "Minimum drone required from respective parent district hospital is  3 chc number is 2\n",
            "Minimum drone required from respective parent district hospital is  0 chc number is 3\n"
          ]
        }
      ],
      "source": [
        "\n",
        "# Python program for Dijkstra's\n",
        "# single source shortest\n",
        "# path algorithm. The program\n",
        "# is for adjacency matrix\n",
        "# representation of the graph\n",
        "\n",
        "\n",
        "from collections import defaultdict\n",
        "\n",
        "#Class to represent a graph\n",
        "class Graph:\n",
        "\n",
        "\t# A utility function to find the\n",
        "\t# vertex with minimum dist value, from\n",
        "\t# the set of vertices still in queue\n",
        "\tdef minDistance(self,dist,queue):\n",
        "\t\t# Initialize min value and min_index as -1\n",
        "\t\tminimum = float(\"Inf\")\n",
        "\t\tmin_index = -1\n",
        "\t\t\n",
        "\t\t# from the dist array,pick one which\n",
        "\t\t# has min value and is till in queue\n",
        "\t\tfor i in range(len(dist)):\n",
        "\t\t\tif dist[i] < minimum and i in queue:\n",
        "\t\t\t\tminimum = dist[i]\n",
        "\t\t\t\tmin_index = i\n",
        "\t\treturn min_index\n",
        "\n",
        "\n",
        "\t# Function to print shortest path\n",
        "\t# from source to j\n",
        "\t# using parent array\n",
        "\tdef printPath(self, parent, j):\n",
        "\t\t\n",
        "\t\t#Base Case : If j is source\n",
        "\t\tif parent[j] == -1 :\n",
        "\t\t\tprint(j,)\n",
        "\t\t\treturn\n",
        "\t\tself.printPath(parent , parent[j])\n",
        "\t\tprint(j,)\n",
        "\t\t\n",
        "\n",
        "\t# A utility function to print\n",
        "\t# the constructed distance\n",
        "\t# array\n",
        "\tdef printSolution(self, dist, parent):\n",
        "\t\tsrc = 0\n",
        "\t\tprint(\"Vertex \\t\\tDistance from Source\\tPath\")\n",
        "\t\tfor i in range(1, len(dist)):\n",
        "\t\t\tprint(\"\\n%d --> %d \\t\\t%d \\t\\t\\t\\t\\t\" % (src, i, dist[i])),\n",
        "\t\t\tself.printPath(parent,i)\n",
        "\n",
        "\n",
        "\t'''Function that implements Dijkstra's single source shortest path\n",
        "\talgorithm for a graph represented using adjacency matrix\n",
        "\trepresentation'''\n",
        "\tdef dijkstra(self, graph, src):\n",
        "\n",
        "\t\t#row = len(graph)\n",
        "\t\tcol = len(graph[0])\n",
        "\n",
        "\t\t# The output array. dist[i] will hold\n",
        "\t\t# the shortest distance from src to i\n",
        "\t\t# Initialize all distances as INFINITE\n",
        "\t\tdist = [float(\"Inf\")] * row\n",
        "\n",
        "\t\t#Parent array to store\n",
        "\t\t# shortest path tree\n",
        "\t#\tparent = [-1] * row\n",
        "\n",
        "\t\t# Distance of source vertex\n",
        "\t\t# from itself is always 0\n",
        "\t\tdist[src] = 0\n",
        "\t\n",
        "\t\t# Add all vertices in queue\n",
        "\t\tqueue = []\n",
        "\t\tfor i in range(row):\n",
        "\t\t\tqueue.append(i)\n",
        "\t\t\t\n",
        "\t\t#Find shortest path for all vertices\n",
        "\t\twhile queue:\n",
        "\n",
        "\t\t\t# Pick the minimum dist vertex\n",
        "\t\t\t# from the set of vertices\n",
        "\t\t\t# still in queue\n",
        "\t\t\tu = self.minDistance(dist,queue)\n",
        "\n",
        "\t\t\t# remove min element\t\n",
        "\t\t\tqueue.remove(u)\n",
        "\n",
        "\t\t\t# Update dist value and parent\n",
        "\t\t\t# index of the adjacent vertices of\n",
        "\t\t\t# the picked vertex. Consider only\n",
        "\t\t\t# those vertices which are still in\n",
        "\t\t\t# queue\n",
        "\t\t\tfor i in range(col):\n",
        "\t\t\t\t'''Update dist[i] only if it is in queue, there is\n",
        "\t\t\t\tan edge from u to i, and total weight of path from\n",
        "\t\t\t\tsrc to i through u is smaller than current value of\n",
        "\t\t\t\tdist[i]'''\n",
        "\t\t\t\tif graph[u][i] and i in queue and graph[u][i]<=10:\n",
        "\t\t\t\t\tif dist[u] + graph[u][i] < dist[i]:\n",
        "\t\t\t\t\t\tdist[i] = dist[u] + graph[u][i]\n",
        "\t\t\t\t\t\tparent[i] = u\n",
        "\n",
        "\n",
        "\t\t# print the constructed distance array\n",
        "\t\tself.printSolution(dist,parent)\n",
        "\n",
        "g= Graph()\n",
        "\n",
        "no_of_dist_hosp = 1\n",
        "no_of_c = 3\n",
        "no_of_p = 3\n",
        "no_of_h = 3\n",
        "\n",
        "\n",
        "graph = [[0, 7, 12, 10, 0, 0, 0, 0, 0, 0],\n",
        "                       [0, 0, 2, 0, 12, 9, 11, 0, 0 ,0],\n",
        "                       [0, 0, 0, 3, 7, 3, 9, 0, 0, 0],\n",
        "                       [0, 0, 0, 0, 12, 13, 11, 0, 0, 0],\n",
        "                       [0, 0, 0, 0, 0, 6, 0, 13, 9, 10],\n",
        "                       [0, 0, 0, 0, 0, 0, 1, 11, 8, 7],\n",
        "                       [0, 0, 0, 0, 0, 0, 0, 7, 9, 10],\n",
        "                       [0, 0, 0, 0, 0, 0, 0, 0, 0, 0],\n",
        "                       [0, 0, 0, 0, 0, 0, 0, 0, 0, 0],\n",
        "                       [0, 0, 0, 0, 0, 0, 0, 0, 0, 0]];\n",
        "\n",
        "\n",
        "\n",
        "\n",
        "\n",
        "\n",
        "row = len(graph)\n",
        "parent = [-1] * row\n",
        "a=parent\n",
        "\n",
        "# Print the solution\n",
        "g.dijkstra(graph,0)\n",
        "\n",
        "p=[0]*20\n",
        "p[7]=2\n",
        "p[8]=3\n",
        "p[9]=4\n",
        "\n",
        "#print(p)\n",
        "#print(parent)\n",
        "su=0;\n",
        "for i in range(len(a) - 1, -1, -1):\n",
        "  p[a[i]]=p[a[i]]+p[i]\n",
        "\n",
        "\n",
        "#print(p)\n",
        "\n",
        "\n",
        "# A Dynamic Programming based Python3 program to\n",
        "# find minimum of coins to make a given change V\n",
        "import sys\n",
        "\n",
        "# m is size of coins array (number of\n",
        "# different coins)\n",
        "def minCoins(coins, m, V):\n",
        "\t\n",
        "\t# table[i] will be storing the minimum\n",
        "\t# number of coins required for i value.\n",
        "\t# So table[V] will have result\n",
        "\ttable = [0 for i in range(V + 1)]\n",
        "\n",
        "\t# Base case (If given value V is 0)\n",
        "\ttable[0] = 0\n",
        "\n",
        "\t# Initialize all table values as Infinite\n",
        "\tfor i in range(1, V + 1):\n",
        "\t\ttable[i] = sys.maxsize\n",
        "\n",
        "\t# Compute minimum coins required\n",
        "\t# for all values from 1 to V\n",
        "\tfor i in range(1, V + 1):\n",
        "\t\t\n",
        "\t\t# Go through all coins smaller than i\n",
        "\t\tfor j in range(m):\n",
        "\t\t\tif (coins[j] <= i):\n",
        "\t\t\t\tsub_res = table[i - coins[j]]\n",
        "\t\t\t\tif (sub_res != sys.maxsize and\n",
        "\t\t\t\t\tsub_res + 1 < table[i]):\n",
        "\t\t\t\t\ttable[i] = sub_res + 1\n",
        "\t\n",
        "\tif table[V] == sys.maxsize:\n",
        "\t\treturn -1\n",
        "\t\n",
        "\treturn table[V]\n",
        "\n",
        "# Driver Code\n",
        "\n",
        "coins = [1,2,3]\n",
        "m = len(coins)\n",
        "##House drone\n",
        "H=[p[7],p[8],p[9]]\n",
        "for i in range(3):\n",
        "  print(\"Minimum drone required from respective parent phc is \",\tminCoins(coins, m, H[i]),\"House number is\",i+1)\n",
        "\n",
        "C=[p[4],p[5],p[6]]\n",
        "for i in range(3):\n",
        "  print(\"Minimum drone required from respective parent chc is \",\tminCoins(coins, m, C[i]),\"phc number is\",i+1)\n",
        "T=[p[1],p[2],p[3]]\n",
        "for i in range(3):\n",
        "  print(\"Minimum drone required from respective parent district hospital is \",\tminCoins(coins, m, T[i]),\"chc number is\",i+1)\n",
        "\n",
        "\n",
        "\n",
        "\n",
        "\n",
        "\n",
        "\n",
        "\n"
      ]
    },
    {
      "cell_type": "code",
      "execution_count": null,
      "metadata": {
        "id": "-Wf55kpRj93M"
      },
      "outputs": [],
      "source": [
        "### this code work properly for demand change in houses\n",
        "## we assume that there is max 3 house, max 3 phc , max 3 chc are available\n",
        "##this code work properly on distance change \n",
        "## this code work properly for sharing material between chc and phc"
      ]
    },
    {
      "cell_type": "markdown",
      "source": [
        "Main Code\n"
      ],
      "metadata": {
        "id": "QK7xMJuvjas0"
      }
    },
    {
      "cell_type": "code",
      "source": [
        "import random"
      ],
      "metadata": {
        "id": "__CxreX90WqN"
      },
      "execution_count": null,
      "outputs": []
    },
    {
      "cell_type": "code",
      "execution_count": null,
      "metadata": {
        "colab": {
          "base_uri": "https://localhost:8080/",
          "height": 235
        },
        "id": "VQfo2_vjqTt4",
        "outputId": "1ecb9a87-baac-4e70-e07b-415924124472"
      },
      "outputs": [
        {
          "output_type": "error",
          "ename": "NameError",
          "evalue": "ignored",
          "traceback": [
            "\u001b[0;31m---------------------------------------------------------------------------\u001b[0m",
            "\u001b[0;31mNameError\u001b[0m                                 Traceback (most recent call last)",
            "\u001b[0;32m<ipython-input-4-18d9186b5d8e>\u001b[0m in \u001b[0;36m<module>\u001b[0;34m\u001b[0m\n\u001b[1;32m      4\u001b[0m \u001b[0mno_of_p\u001b[0m \u001b[0;34m=\u001b[0m \u001b[0;36m4\u001b[0m\u001b[0;34m\u001b[0m\u001b[0;34m\u001b[0m\u001b[0m\n\u001b[1;32m      5\u001b[0m \u001b[0mno_of_h\u001b[0m \u001b[0;34m=\u001b[0m \u001b[0;36m5\u001b[0m\u001b[0;34m\u001b[0m\u001b[0;34m\u001b[0m\u001b[0m\n\u001b[0;32m----> 6\u001b[0;31m \u001b[0mvelocity\u001b[0m\u001b[0;34m=\u001b[0m\u001b[0mrandom\u001b[0m\u001b[0;34m.\u001b[0m\u001b[0mrandint\u001b[0m\u001b[0;34m(\u001b[0m\u001b[0;36m1\u001b[0m\u001b[0;34m,\u001b[0m\u001b[0;36m2\u001b[0m\u001b[0;34m)\u001b[0m\u001b[0;34m\u001b[0m\u001b[0;34m\u001b[0m\u001b[0m\n\u001b[0m\u001b[1;32m      7\u001b[0m \u001b[0mm_h_t_C\u001b[0m\u001b[0;34m=\u001b[0m\u001b[0;36m2\u001b[0m\u001b[0;34m\u001b[0m\u001b[0;34m\u001b[0m\u001b[0m\n\u001b[1;32m      8\u001b[0m \u001b[0mm_h_t_P\u001b[0m\u001b[0;34m=\u001b[0m\u001b[0;36m2\u001b[0m\u001b[0;34m\u001b[0m\u001b[0;34m\u001b[0m\u001b[0m\n",
            "\u001b[0;31mNameError\u001b[0m: name 'random' is not defined"
          ]
        }
      ],
      "source": [
        "node_num = {}\n",
        "no_of_dist_hosp = 1\n",
        "no_of_c = 2\n",
        "no_of_p = 4\n",
        "no_of_h = 5\n",
        "velocity=random.randint(1,2)\n",
        "m_h_t_C=2\n",
        "m_h_t_P=2\n",
        "m_h_t_h=1\n",
        "m_h_t_d=3\n",
        "i = 0\n",
        "node_num['S'] = i\n",
        "i += 1\n",
        "j = 1\n",
        "for k in range(no_of_c):\n",
        "  a=str(j)\n",
        "  node_num['C'+a] = i\n",
        "  i += 1\n",
        "  j += 1\n",
        "j=1\n",
        "for k in range(no_of_p):\n",
        "  a=str(j)\n",
        "  node_num['P'+a] = i\n",
        "  i += 1\n",
        "  j += 1\n",
        "j=1\n",
        "for k in range(no_of_h):\n",
        "  a=str(j)\n",
        "  node_num['H'+a] = i\n",
        "  i += 1\n",
        "  j += 1\n",
        "\n",
        "#node_num['P4']\n",
        "\n",
        "graph = [[0, 7, 12, 10, 0, 0, 0, 0, 0, 0],\n",
        "                       [0, 0, 2, 0, 12, 9, 11, 0, 0 ,0],\n",
        "                       [0, 0, 0, 3, 7, 3, 9, 0, 0, 0],\n",
        "                       [0, 0, 0, 0, 12, 13, 11, 0, 0, 0],\n",
        "                       [0, 0, 0, 0, 0, 6, 0, 13, 9, 10],\n",
        "                       [0, 0, 0, 0, 0, 0, 1, 11, 8, 7],\n",
        "                       [0, 0, 0, 0, 0, 0, 0, 7, 9, 10],\n",
        "                       [0, 0, 0, 0, 0, 0, 0, 0, 0, 0],\n",
        "                       [0, 0, 0, 0, 0, 0, 0, 0, 0, 0],\n",
        "                       [0, 0, 0, 0, 0, 0, 0, 0, 0, 0]];\n",
        "\n",
        "\n",
        "\n",
        "type(node_num['C'+str(1)])\n",
        "\n",
        "\n",
        "#no_of_h += 1\n",
        "#graph.append([[0]*(no_of_dist_hosp + no_of_c + no_of_p + no_of_h)]*no_of_dist_hosp + no_of_c + no_of_p + no_of_h)\n",
        "#graph[10][3]=5"
      ]
    },
    {
      "cell_type": "code",
      "execution_count": null,
      "metadata": {
        "id": "pJwOKe3fZQXq"
      },
      "outputs": [],
      "source": [
        "import numpy as np\n",
        "import random\n",
        "\n"
      ]
    },
    {
      "cell_type": "code",
      "execution_count": null,
      "metadata": {
        "id": "7_3N9IPhLrNm"
      },
      "outputs": [],
      "source": [
        "rows, cols = (no_of_dist_hosp + no_of_c + no_of_p + no_of_h, no_of_dist_hosp + no_of_c + no_of_p + no_of_h)\n",
        "graph = []\n",
        "for i in range(rows):\n",
        "  graph.append([0]*cols)\n",
        "graph\n",
        "# for hospital \n",
        "for i in range(no_of_c):\n",
        "  a=str(i+1)\n",
        "  b=node_num['S']\n",
        "  t=node_num['C'+a]\n",
        "  graph[b][t]= random.randint(5,12)\n",
        "\n",
        "#for chc to chc\n",
        "for i in range(no_of_c-1):\n",
        "  a=str(i+1)\n",
        "  k=str(i+2)\n",
        "  \n",
        "  b=node_num['C'+a]\n",
        "  t=node_num['C'+k]\n",
        "  graph[b][t]= random.randint(2,10)\n",
        "#for chc to phc\n",
        "for i in range(no_of_c):\n",
        "  a=str(i+1)\n",
        "  b=node_num['C'+a]\n",
        "  for j in range(no_of_p):\n",
        "    f=str(j+1)\n",
        "    t=node_num['P'+f]\n",
        "    graph[b][t]= random.randint(5,12)\n",
        "\n",
        "#phc to phc\n",
        "for i in range(no_of_p-1):\n",
        "  a=str(i+1)\n",
        "  k=str(i+2)\n",
        "  \n",
        "  b=node_num['P'+a]\n",
        "  t=node_num['P'+k]\n",
        "  graph[b][t]= random.randint(2,10)\n",
        "\n",
        "#phc to home\n",
        "for i in range(no_of_p):\n",
        "  a=str(i+1)\n",
        "  b=node_num['P'+a]\n",
        "  for j in range(no_of_h):\n",
        "    f=str(j+1)\n",
        "    t=node_num['H'+f]\n",
        "    graph[b][t]= random.randint(5,12)\n",
        "\n",
        "  \n"
      ]
    },
    {
      "cell_type": "code",
      "source": [],
      "metadata": {
        "id": "9nP8yOaqNO47"
      },
      "execution_count": null,
      "outputs": []
    },
    {
      "cell_type": "code",
      "source": [
        "graph"
      ],
      "metadata": {
        "colab": {
          "base_uri": "https://localhost:8080/"
        },
        "id": "TV2BXejVN6tS",
        "outputId": "05cc026f-c31c-44b9-d949-3872bc7de014"
      },
      "execution_count": null,
      "outputs": [
        {
          "output_type": "execute_result",
          "data": {
            "text/plain": [
              "[[0, 10, 6, 0, 0, 0, 0, 0, 0, 0, 0, 0],\n",
              " [0, 0, 8, 7, 12, 10, 6, 0, 0, 0, 0, 0],\n",
              " [0, 0, 0, 7, 5, 9, 12, 0, 0, 0, 0, 0],\n",
              " [0, 0, 0, 0, 6, 0, 0, 8, 10, 12, 12, 9],\n",
              " [0, 0, 0, 0, 0, 3, 0, 5, 10, 11, 9, 9],\n",
              " [0, 0, 0, 0, 0, 0, 7, 11, 8, 6, 6, 6],\n",
              " [0, 0, 0, 0, 0, 0, 0, 9, 11, 7, 5, 7],\n",
              " [0, 0, 0, 0, 0, 0, 0, 0, 0, 0, 0, 0],\n",
              " [0, 0, 0, 0, 0, 0, 0, 0, 0, 0, 0, 0],\n",
              " [0, 0, 0, 0, 0, 0, 0, 0, 0, 0, 0, 0],\n",
              " [0, 0, 0, 0, 0, 0, 0, 0, 0, 0, 0, 0],\n",
              " [0, 0, 0, 0, 0, 0, 0, 0, 0, 0, 0, 0]]"
            ]
          },
          "metadata": {},
          "execution_count": 67
        }
      ]
    },
    {
      "cell_type": "code",
      "source": [
        "import pandas as pd \n",
        "import numpy as np \n",
        "array = np.array(graph) \n",
        "dataframe = pd.DataFrame(array) \n",
        "dataframe.to_csv(r\"/content/drive/MyDrive/data1.csv\")"
      ],
      "metadata": {
        "id": "-XxIRf0DNqhw"
      },
      "execution_count": null,
      "outputs": []
    },
    {
      "cell_type": "code",
      "source": [
        "from google.colab import drive\n",
        "drive.mount('/content/drive')"
      ],
      "metadata": {
        "id": "uOvN_nboathP",
        "colab": {
          "base_uri": "https://localhost:8080/"
        },
        "outputId": "dc3ba166-aed9-4988-c5e7-c7067da1b609"
      },
      "execution_count": null,
      "outputs": [
        {
          "output_type": "stream",
          "name": "stdout",
          "text": [
            "Drive already mounted at /content/drive; to attempt to forcibly remount, call drive.mount(\"/content/drive\", force_remount=True).\n"
          ]
        }
      ]
    },
    {
      "cell_type": "code",
      "source": [],
      "metadata": {
        "id": "xe0nWKIDOGqw"
      },
      "execution_count": null,
      "outputs": []
    },
    {
      "cell_type": "code",
      "execution_count": null,
      "metadata": {
        "id": "Td8LduiDLxZj"
      },
      "outputs": [],
      "source": []
    },
    {
      "cell_type": "code",
      "execution_count": null,
      "metadata": {
        "id": "XiX-bFrnZ4qG"
      },
      "outputs": [],
      "source": [
        "for i in range(rows):\n",
        "  for j in range(cols):\n",
        "    if graph[i][j]>11:\n",
        "      graph[i][j]=0\n"
      ]
    },
    {
      "cell_type": "code",
      "source": [
        "\n",
        "#for chc to chc\n",
        "for i in range(no_of_c-1):\n",
        "  a=str(i+1)\n",
        "  k=str(i+2)\n",
        "  \n",
        "  b=node_num['C'+a]\n",
        "  t=node_num['C'+k]\n",
        "  if graph[b][t]!=0:\n",
        "    graph[b][t]+= m_h_t_C*velocity\n",
        "#for chc to phc\n",
        "for i in range(no_of_c):\n",
        "  a=str(i+1)\n",
        "  b=node_num['C'+a]\n",
        "  for j in range(no_of_p):\n",
        "    f=str(j+1)\n",
        "    t=node_num['P'+f]\n",
        "    if graph[b][t]!=0:\n",
        "      graph[b][t]+= m_h_t_C*velocity\n",
        "    \n",
        "\n",
        "#phc to phc\n",
        "for i in range(no_of_p-1):\n",
        "  a=str(i+1)\n",
        "  k=str(i+2)\n",
        "  \n",
        "  b=node_num['P'+a]\n",
        "  t=node_num['P'+k]\n",
        "  if graph[b][t]!=0:\n",
        "    graph[b][t]+= m_h_t_P*velocity\n",
        "\n",
        "#phc to home\n",
        "for i in range(no_of_p):\n",
        "  a=str(i+1)\n",
        "  b=node_num['P'+a]\n",
        "  for j in range(no_of_h):\n",
        "    f=str(j+1)\n",
        "    t=node_num['H'+f]\n",
        "    if graph[b][t]!=0:\n",
        "      graph[b][t]+= m_h_t_P*velocity\n",
        "\n",
        "\n",
        "   "
      ],
      "metadata": {
        "id": "qq-8xEfO30EC"
      },
      "execution_count": null,
      "outputs": []
    },
    {
      "cell_type": "code",
      "execution_count": null,
      "metadata": {
        "colab": {
          "base_uri": "https://localhost:8080/"
        },
        "id": "cbTauAjJbHEd",
        "outputId": "d71ef782-f335-4217-d39e-187a0e39562b"
      },
      "outputs": [
        {
          "output_type": "execute_result",
          "data": {
            "text/plain": [
              "[[0, 10, 6, 0, 0, 0, 0, 0, 0, 0, 0, 0],\n",
              " [0, 0, 12, 11, 0, 14, 10, 0, 0, 0, 0, 0],\n",
              " [0, 0, 0, 11, 9, 13, 0, 0, 0, 0, 0, 0],\n",
              " [0, 0, 0, 0, 10, 0, 0, 12, 14, 0, 0, 13],\n",
              " [0, 0, 0, 0, 0, 7, 0, 9, 14, 15, 13, 13],\n",
              " [0, 0, 0, 0, 0, 0, 11, 15, 12, 10, 10, 10],\n",
              " [0, 0, 0, 0, 0, 0, 0, 13, 15, 11, 9, 11],\n",
              " [0, 0, 0, 0, 0, 0, 0, 0, 0, 0, 0, 0],\n",
              " [0, 0, 0, 0, 0, 0, 0, 0, 0, 0, 0, 0],\n",
              " [0, 0, 0, 0, 0, 0, 0, 0, 0, 0, 0, 0],\n",
              " [0, 0, 0, 0, 0, 0, 0, 0, 0, 0, 0, 0],\n",
              " [0, 0, 0, 0, 0, 0, 0, 0, 0, 0, 0, 0]]"
            ]
          },
          "metadata": {},
          "execution_count": 72
        }
      ],
      "source": [
        "graph"
      ]
    },
    {
      "cell_type": "code",
      "execution_count": null,
      "metadata": {
        "id": "U7SJUYINbH7p",
        "colab": {
          "base_uri": "https://localhost:8080/"
        },
        "outputId": "22a60c32-f53d-4bcb-9929-4a810bf0da74"
      },
      "outputs": [
        {
          "output_type": "stream",
          "name": "stdout",
          "text": [
            "Vertex \t\tDistance from Source\tPath\n",
            "\n",
            "0 --> 1 \t\t10 \t\t\t\t\t\n",
            "0\n",
            "1\n",
            "\n",
            "0 --> 2 \t\t6 \t\t\t\t\t\n",
            "0\n",
            "2\n",
            "\n",
            "0 --> 3 \t\t17 \t\t\t\t\t\n",
            "0\n",
            "2\n",
            "3\n",
            "\n",
            "0 --> 4 \t\t15 \t\t\t\t\t\n",
            "0\n",
            "2\n",
            "4\n",
            "\n",
            "0 --> 5 \t\t19 \t\t\t\t\t\n",
            "0\n",
            "2\n",
            "5\n",
            "\n",
            "0 --> 6 \t\t20 \t\t\t\t\t\n",
            "0\n",
            "1\n",
            "6\n",
            "\n",
            "0 --> 7 \t\t24 \t\t\t\t\t\n",
            "0\n",
            "2\n",
            "4\n",
            "7\n",
            "\n",
            "0 --> 8 \t\t29 \t\t\t\t\t\n",
            "0\n",
            "2\n",
            "4\n",
            "8\n",
            "\n",
            "0 --> 9 \t\t29 \t\t\t\t\t\n",
            "0\n",
            "2\n",
            "5\n",
            "9\n",
            "\n",
            "0 --> 10 \t\t28 \t\t\t\t\t\n",
            "0\n",
            "2\n",
            "4\n",
            "10\n",
            "\n",
            "0 --> 11 \t\t28 \t\t\t\t\t\n",
            "0\n",
            "2\n",
            "4\n",
            "11\n",
            "Total Time Taken 18.5\n",
            "[13, 0, 13, 0, 11, 2, 0, 4, 1, 2, 2, 4, 0, 0, 0, 0, 0, 0, 0, 0, 0, 0, 0, 0, 0, 0, 0, 0, 0, 0, 0, 0, 0, 0, 0, 0, 0, 0, 0, 0, 0, 0, 0, 0, 0, 0, 0, 0, 0, 0, 0, 0, 0, 0, 0, 0, 0, 0, 0, 0, 0, 0, 0, 0, 0, 0, 0, 0, 0, 0, 0, 0, 0, 0, 0, 0, 0, 0, 0, 0, 0, 0, 0, 0, 0, 0, 0, 0, 0, 0, 0, 0, 0, 0, 0, 0, 0, 0, 0, 13]\n",
            "Minimum drone required from respective parent phc is  2 House number is H1\n",
            "1drone of 3 kg1 drone of1kg\n",
            "Minimum drone required from respective parent phc is  1 House number is H2\n",
            "1 drone of 1 kg\n",
            "Minimum drone required from respective parent phc is  1 House number is H3\n",
            "1 drone of 2 kg\n",
            "Minimum drone required from respective parent phc is  1 House number is H4\n",
            "1 drone of 2 kg\n",
            "Minimum drone required from respective parent phc is  2 House number is H5\n",
            "1drone of 3 kg1 drone of1kg\n",
            "Minimum drone required from respective parent district hospital is  0 CHC number is C1\n",
            "Minimum drone required from respective parent district hospital is  5 CHC number is C2\n",
            "4drone of 3 kg1 drone of1kg\n",
            "Minimum drone required from respective parent chc is  0 PHC number is P1\n",
            "Minimum drone required from respective parent chc is  4 PHC number is P2\n",
            "3drone of 3 kg1 drone of2kg\n",
            "Minimum drone required from respective parent chc is  1 PHC number is P3\n",
            "1 drone of 2 kg\n",
            "Minimum drone required from respective parent chc is  0 PHC number is P4\n"
          ]
        }
      ],
      "source": [
        "\n",
        "# Python program for Dijkstra's\n",
        "# single source shortest\n",
        "# path algorithm. The program\n",
        "# is for adjacency matrix\n",
        "# representation of the graph\n",
        "\n",
        "\n",
        "from collections import defaultdict\n",
        "\n",
        "#Class to represent a graph\n",
        "class Graph:\n",
        "\n",
        "\t# A utility function to find the\n",
        "\t# vertex with minimum dist value, from\n",
        "\t# the set of vertices still in queue\n",
        "  def minDistance(self,dist,queue):\n",
        "\t\t# Initialize min value and min_index as -1\n",
        "    minimum = float(\"Inf\")\n",
        "    min_index = -1\n",
        "\t\t\n",
        "\t\t# from the dist array,pick one which\n",
        "\t\t# has min value and is till in queue\n",
        "    for i in range(len(dist)):\n",
        "      if dist[i] < minimum and i in queue:\n",
        "        minimum = dist[i]\n",
        "        min_index = i\n",
        "    return min_index\n",
        "\n",
        "\n",
        "\t# Function to print shortest path\n",
        "\t# from source to j\n",
        "\t# using parent array\n",
        "  def printPath(self, parent, j):\n",
        "\t\t\n",
        "\t\t#Base Case : If j is source\n",
        "    if parent[j] == -1 :\n",
        "      print(j,)\n",
        "      return\n",
        "    self.printPath(parent , parent[j])\n",
        "    print(j,)\n",
        "\t\t\n",
        "\n",
        "\t# A utility function to print\n",
        "\t# the constructed distance\n",
        "\t# array\n",
        "  def printSolution(self, dist, parent):\n",
        "\n",
        "\n",
        "    src = 0\n",
        "    tim=0\n",
        "    print(\"Vertex \\t\\tDistance from Source\\tPath\")\n",
        "    for i in range(1, len(dist)):\n",
        "      tim=max(tim,dist[i]/velocity)\n",
        "      print(\"\\n%d --> %d \\t\\t%d \\t\\t\\t\\t\\t\" % (src, i, dist[i])),self.printPath(parent,i)\n",
        "   \n",
        "    print(\"Total Time Taken\",tim+m_h_t_h+m_h_t_d)\n",
        "    \n",
        "\n",
        "  def dijkstra(self, graph, src):\n",
        "\n",
        "\t\t#row = len(graph)\n",
        "    col = len(graph[0])\n",
        "\n",
        "\t\t# The output array. dist[i] will hold\n",
        "\t\t# the shortest distance from src to i\n",
        "\t\t# Initialize all distances as INFINITE\n",
        "    dist = [float(\"Inf\")] * row\n",
        "\n",
        "\t\t#Parent array to store\n",
        "\t\t# shortest path tree\n",
        "\t#\tparent = [-1] * row\n",
        "\n",
        "\t\t# Distance of source vertex\n",
        "\t\t# from itself is always 0\n",
        "    dist[src] = 0\n",
        "\t\n",
        "\t\t# Add all vertices in queue\n",
        "    queue = []\n",
        "    for i in range(row):\n",
        "      queue.append(i)\n",
        "\t\t\t\n",
        "\t\t#Find shortest path for all vertices\n",
        "    while queue:\n",
        "\n",
        "\t\t\t# Pick the minimum dist vertex\n",
        "\t\t\t# from the set of vertices\n",
        "\t\t\t# still in queue\n",
        "      u = self.minDistance(dist,queue)\n",
        "\n",
        "\t\t\t# remove min element\t\n",
        "      queue.remove(u)\n",
        "\n",
        "\t\t\t# Update dist value and parent\n",
        "\t\t\t# index of the adjacent vertices of\n",
        "\t\t\t# the picked vertex. Consider only\n",
        "\t\t\t# those vertices which are still in\n",
        "\t\t\t# queue\n",
        "      for i in range(col):\n",
        "     \n",
        "        if graph[u][i] and i in queue:\n",
        "          if dist[u] + graph[u][i] < dist[i]:\n",
        "            dist[i] = dist[u] + graph[u][i]\n",
        "            parent[i] = u\n",
        "\n",
        "\n",
        "\t\t# print the constructed distance array\n",
        "    self.printSolution(dist,parent)\n",
        "  \n",
        "  \n",
        "\n",
        "g= Graph()\n",
        "\n",
        "no_of_dist_hosp = 1\n",
        "no_of_c = 2\n",
        "no_of_p = 4\n",
        "no_of_h = 5\n",
        "\n",
        "\n",
        "\n",
        "\n",
        "\n",
        "\n",
        "\n",
        "\n",
        "\n",
        "row = len(graph)\n",
        "parent = [-1] * row\n",
        "a=parent\n",
        "\n",
        "# Print the solution\n",
        "g.dijkstra(graph,0)\n",
        "\n",
        "p=[0]*100\n",
        "for i in range(no_of_h):\n",
        "  p[node_num['H'+str(i+1)]]=random.randint(1,5)\n",
        "#for i in range(no_of_c):\n",
        "#  p[node_num['C'+str(i+1)]]=random.randint(0,5)\n",
        "#for i in range(no_of_p):\n",
        "#  p[node_num['P'+str(i+1)]]=random.randint(0,5)\n",
        "\n",
        "\n",
        "#print(parent)\n",
        "su=0;\n",
        "for i in range(len(a) - 1, -1, -1):\n",
        "  p[a[i]]=p[a[i]]+p[i]\n",
        "\n",
        "\n",
        "print(p)\n",
        "#########################\n",
        "array1 = np.array(p) \n",
        "#dataframe = pd.DataFrame(array1) \n",
        "#dataframe.to_csv(r\"/content/drive/MyDrive/weightsateachstage2.csv\")\n",
        "\n",
        "\n",
        "# A Dynamic Programming based Python3 program to\n",
        "# find minimum of coins to make a given change V\n",
        "import sys\n",
        "\n",
        "# m is size of coins array (number of\n",
        "# different coins)\n",
        "def minCoins(coins, m, V):\n",
        "\t\n",
        "\t# table[i] will be storing the minimum\n",
        "\t# number of coins required for i value.\n",
        "\t# So table[V] will have result\n",
        "\ttable = [0 for i in range(V + 1)]\n",
        "\n",
        "\t# Base case (If given value V is 0)\n",
        "\ttable[0] = 0\n",
        "\n",
        "\t# Initialize all table values as Infinite\n",
        "\tfor i in range(1, V + 1):\n",
        "\t\ttable[i] = sys.maxsize\n",
        "\n",
        "\t# Compute minimum coins required\n",
        "\t# for all values from 1 to V\n",
        "\tfor i in range(1, V + 1):\n",
        "\t\t\n",
        "\t\t# Go through all coins smaller than i\n",
        "\t\tfor j in range(m):\n",
        "\t\t\tif (coins[j] <= i):\n",
        "\t\t\t\tsub_res = table[i - coins[j]]\n",
        "\t\t\t\tif (sub_res != sys.maxsize and\n",
        "\t\t\t\t\tsub_res + 1 < table[i]):\n",
        "\t\t\t\t\ttable[i] = sub_res + 1\n",
        "\t\n",
        "\tif table[V] == sys.maxsize:\n",
        "\t\treturn -1\n",
        "\t\n",
        "\treturn table[V]\n",
        "\n",
        "# Driver Code\n",
        "\n",
        "u=[]\n",
        "coins = [1,2,3]\n",
        "m = len(coins)\n",
        "\n",
        "def whichtype(V):\n",
        "\tif(V%1==0 and V<=1 and V!=0):\n",
        "\t\tprint(\"1 drone of 1 kg\")\n",
        "\telif(V%2==0 and V<=2 and V>1):\n",
        "\t\tprint(\"1 drone of 2 kg\")\n",
        "\telif(V%3==0 and V<=3 and V>2):\n",
        "\t\tprint(\"1 drone of 3 kg\")\n",
        "\telif(V>3):\n",
        "\t\tremainder=V%3\n",
        "\t\tnumb=V-remainder\n",
        "\t\ttimes=(V-remainder)//3\n",
        "\t\tprint(str(times)+\"drone of 3 kg\"+\"1 drone of\"+str(remainder)+\"kg\")\n",
        "\n",
        "##House drone\n",
        "for i in range(no_of_h):\n",
        "\tprint(\"Minimum drone required from respective parent phc is \",\tminCoins(coins, m, p[node_num['H'+str(i+1)]]),\"House number is\",'H'+str(i+1))\n",
        "\n",
        "\twhichtype(p[node_num['H'+str(i+1)]])\n",
        " \n",
        " \t\n",
        "\t\n",
        "  \n",
        "\n",
        "for i in range(no_of_c): \t\n",
        "\tprint(\"Minimum drone required from respective parent district hospital is \",\tminCoins(coins, m, p[node_num['C'+str(i+1)]]),\"CHC number is\",'C'+str(i+1))\n",
        "\n",
        "\twhichtype(p[node_num['C'+str(i+1)]])\n",
        "\n",
        " \n",
        "\t\n",
        "for i in range(no_of_p): \t\n",
        "\tprint(\"Minimum drone required from respective parent chc is \",\tminCoins(coins, m, p[node_num['P'+str(i+1)]]),\"PHC number is\",'P'+str(i+1))\n",
        "\n",
        "\twhichtype(p[node_num['P'+str(i+1)]])\n",
        "\n",
        "\t\n",
        " \n",
        "\n",
        "\t\n",
        "  \n",
        " \n",
        "\n",
        "\n",
        "\n",
        " \n",
        "for i in range(no_of_c):\n",
        "\tu.append(minCoins(coins, m, p[node_num['C'+str(i+1)]]))\n",
        "for i in range(no_of_p):\n",
        "\tu.append(minCoins(coins, m, p[node_num['P'+str(i+1)]]))\n",
        "for i in range(no_of_h):\n",
        "\tu.append(minCoins(coins, m, p[node_num['H'+str(i+1)]]))\n",
        " \n",
        "\n",
        "array2 = np.array(u) \n",
        "#dataframe = pd.DataFrame(array2) \n",
        "#dataframe.to_csv(r\"/content/drive/MyDrive/dronesateachstagerequired.csv\")\n",
        "\n",
        "\n",
        "\n",
        "\n",
        "\n"
      ]
    },
    {
      "cell_type": "code",
      "source": [],
      "metadata": {
        "id": "Bf43wMS8in1t"
      },
      "execution_count": null,
      "outputs": []
    },
    {
      "cell_type": "markdown",
      "source": [
        "Main code Ended"
      ],
      "metadata": {
        "id": "ik2L9dEvjeb1"
      }
    },
    {
      "cell_type": "code",
      "source": [],
      "metadata": {
        "id": "PJFLvowYMV7y"
      },
      "execution_count": null,
      "outputs": []
    },
    {
      "cell_type": "code",
      "source": [],
      "metadata": {
        "id": "dFQV1CCnYlK4"
      },
      "execution_count": null,
      "outputs": []
    },
    {
      "cell_type": "code",
      "source": [],
      "metadata": {
        "id": "7M4LM-TxYnSv"
      },
      "execution_count": null,
      "outputs": []
    },
    {
      "cell_type": "code",
      "source": [],
      "metadata": {
        "id": "LO02wFsd2f5F"
      },
      "execution_count": null,
      "outputs": []
    },
    {
      "cell_type": "code",
      "source": [],
      "metadata": {
        "id": "yjfKzBTEjQPq"
      },
      "execution_count": null,
      "outputs": []
    },
    {
      "cell_type": "code",
      "source": [],
      "metadata": {
        "id": "6kifCH-UjQMK"
      },
      "execution_count": null,
      "outputs": []
    },
    {
      "cell_type": "code",
      "source": [],
      "metadata": {
        "id": "aFYuNVqGjQKW"
      },
      "execution_count": null,
      "outputs": []
    },
    {
      "cell_type": "code",
      "source": [],
      "metadata": {
        "id": "x6ugsu9zjQH-"
      },
      "execution_count": null,
      "outputs": []
    },
    {
      "cell_type": "code",
      "source": [],
      "metadata": {
        "id": "ADaQqayYjQGN"
      },
      "execution_count": null,
      "outputs": []
    },
    {
      "cell_type": "code",
      "source": [],
      "metadata": {
        "id": "baoBfsInjQEN"
      },
      "execution_count": null,
      "outputs": []
    },
    {
      "cell_type": "code",
      "source": [],
      "metadata": {
        "id": "Dt0oinjIjQCF"
      },
      "execution_count": null,
      "outputs": []
    },
    {
      "cell_type": "code",
      "source": [],
      "metadata": {
        "id": "wH891ZqejQAi"
      },
      "execution_count": null,
      "outputs": []
    },
    {
      "cell_type": "code",
      "source": [],
      "metadata": {
        "id": "mjOmU1a4jP-Q"
      },
      "execution_count": null,
      "outputs": []
    },
    {
      "cell_type": "code",
      "source": [],
      "metadata": {
        "id": "sRMZUhccjP8T"
      },
      "execution_count": null,
      "outputs": []
    },
    {
      "cell_type": "code",
      "source": [],
      "metadata": {
        "id": "SLC38Q6ujP65"
      },
      "execution_count": null,
      "outputs": []
    },
    {
      "cell_type": "code",
      "source": [],
      "metadata": {
        "id": "RSrdWU91jP4R"
      },
      "execution_count": null,
      "outputs": []
    },
    {
      "cell_type": "code",
      "source": [],
      "metadata": {
        "id": "POd3UQuXjP1t"
      },
      "execution_count": null,
      "outputs": []
    },
    {
      "cell_type": "code",
      "source": [],
      "metadata": {
        "id": "wR275W67jRN2"
      },
      "execution_count": null,
      "outputs": []
    },
    {
      "cell_type": "code",
      "source": [],
      "metadata": {
        "id": "FjeiHCwQjRKD"
      },
      "execution_count": null,
      "outputs": []
    },
    {
      "cell_type": "code",
      "source": [],
      "metadata": {
        "id": "YxuHCg07jRIq"
      },
      "execution_count": null,
      "outputs": []
    },
    {
      "cell_type": "code",
      "source": [],
      "metadata": {
        "id": "huGkEZnJjRGG"
      },
      "execution_count": null,
      "outputs": []
    },
    {
      "cell_type": "code",
      "source": [],
      "metadata": {
        "id": "7gpOckR6jRD9"
      },
      "execution_count": null,
      "outputs": []
    },
    {
      "cell_type": "code",
      "source": [],
      "metadata": {
        "id": "BixpcyTDjRBE"
      },
      "execution_count": null,
      "outputs": []
    },
    {
      "cell_type": "code",
      "source": [],
      "metadata": {
        "id": "Oh_9x7iZjQ9e"
      },
      "execution_count": null,
      "outputs": []
    },
    {
      "cell_type": "code",
      "source": [],
      "metadata": {
        "id": "wvOgXFckjQ7O"
      },
      "execution_count": null,
      "outputs": []
    },
    {
      "cell_type": "code",
      "source": [
        "##### NOT usefullll do not run it\n"
      ],
      "metadata": {
        "id": "NWm-F6DDjQ5H"
      },
      "execution_count": null,
      "outputs": []
    },
    {
      "cell_type": "code",
      "source": [
        "#for chc to chc\n",
        "for i in range(no_of_c-1):\n",
        "  a=str(i+1)\n",
        "  k=str(i+2)\n",
        "  \n",
        "  b=node_num['C'+a]\n",
        "  t=node_num['C'+k]\n",
        "  if graph[b][t]!=0:\n",
        "    graph[b][t]+= m_h_t_C*velocity\n",
        "#for chc to phc\n",
        "for i in range(no_of_c):\n",
        "  a=str(i+1)\n",
        "  b=node_num['C'+a]\n",
        "  for j in range(no_of_p):\n",
        "    f=str(j+1)\n",
        "    t=node_num['P'+f]\n",
        "    if graph[b][t]!=0:\n",
        "      graph[b][t]+= m_h_t_C*velocity\n",
        "    \n",
        "\n",
        "#phc to phc\n",
        "for i in range(no_of_p-1):\n",
        "  a=str(i+1)\n",
        "  k=str(i+2)\n",
        "  \n",
        "  b=node_num['P'+a]\n",
        "  t=node_num['P'+k]\n",
        "  if graph[b][t]!=0:\n",
        "    graph[b][t]+= m_h_t_P*velocity\n",
        "\n",
        "#phc to home\n",
        "for i in range(no_of_p):\n",
        "  a=str(i+1)\n",
        "  b=node_num['P'+a]\n",
        "  for j in range(no_of_h):\n",
        "    f=str(j+1)\n",
        "    t=node_num['H'+f]\n",
        "    if graph[b][t]!=0:\n",
        "      graph[b][t]+= m_h_t_P*velocity"
      ],
      "metadata": {
        "id": "aE7b1o0xjQ2x"
      },
      "execution_count": null,
      "outputs": []
    }
  ],
  "metadata": {
    "colab": {
      "provenance": []
    },
    "kernelspec": {
      "display_name": "Python 3",
      "name": "python3"
    },
    "language_info": {
      "name": "python"
    }
  },
  "nbformat": 4,
  "nbformat_minor": 0
}